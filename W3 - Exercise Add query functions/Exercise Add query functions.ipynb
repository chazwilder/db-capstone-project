{
 "cells": [
  {
   "cell_type": "code",
   "execution_count": 12,
   "metadata": {},
   "outputs": [],
   "source": [
    "import mysql.connector\n",
    "\n",
    "conn = mysql.connector.connect(user = \"coursera_capstone\", password = \"[Coursera123]\", db=\"littlelemondb\")"
   ]
  },
  {
   "cell_type": "code",
   "execution_count": 13,
   "metadata": {},
   "outputs": [],
   "source": [
    "curs = conn.cursor()\n",
    "show_tables_query = \"SHOW tables\" \n",
    "curs.execute(show_tables_query)"
   ]
  },
  {
   "cell_type": "code",
   "execution_count": 15,
   "metadata": {},
   "outputs": [
    {
     "name": "stdout",
     "output_type": "stream",
     "text": [
      "[('bookings',), ('bookingtype',), ('cuisinetype',), ('customers',), ('deliveryaddress',), ('deliverystatuscodes',), ('employee',), ('employeeroles',), ('menu',), ('menucategory',), ('menuitems',), ('orderdelivery',), ('orderdetails',), ('orders',), ('orderstatus',), ('ordersview',)]\n"
     ]
    }
   ],
   "source": [
    "result = curs.fetchall();\n",
    "print(result)"
   ]
  },
  {
   "cell_type": "code",
   "execution_count": 17,
   "metadata": {},
   "outputs": [],
   "source": [
    "promo_query = \"\"\"\n",
    "            SELECT CONCAT(FirstName, ' ',LastName) AS FullName, \n",
    "                ContactNumber,\n",
    "                EmailAddress,\n",
    "                BillAmount \n",
    "            FROM Orders O\n",
    "            LEFT JOIN Customers C ON O.CustomerID = C.CustomerID\n",
    "            WHERE BillAmount > 60;\n",
    "            \"\"\""
   ]
  },
  {
   "cell_type": "code",
   "execution_count": 18,
   "metadata": {},
   "outputs": [
    {
     "name": "stdout",
     "output_type": "stream",
     "text": [
      "[('Anna Iversen', 999999999, 'Anna.I@gmail.com', Decimal('86.00'))]\n"
     ]
    }
   ],
   "source": [
    "curs.execute(promo_query)\n",
    "result = curs.fetchall();\n",
    "print(result)"
   ]
  }
 ],
 "metadata": {
  "kernelspec": {
   "display_name": "Python 3",
   "language": "python",
   "name": "python3"
  },
  "language_info": {
   "codemirror_mode": {
    "name": "ipython",
    "version": 3
   },
   "file_extension": ".py",
   "mimetype": "text/x-python",
   "name": "python",
   "nbconvert_exporter": "python",
   "pygments_lexer": "ipython3",
   "version": "3.11.1 (tags/v3.11.1:a7a450f, Dec  6 2022, 19:58:39) [MSC v.1934 64 bit (AMD64)]"
  },
  "orig_nbformat": 4,
  "vscode": {
   "interpreter": {
    "hash": "544c7e72ceabb8b5baf00146d00b7c3a5bfd60d2cf41bb549c5c035fb33480da"
   }
  }
 },
 "nbformat": 4,
 "nbformat_minor": 2
}
